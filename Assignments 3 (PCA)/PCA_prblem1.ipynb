{
 "cells": [
  {
   "cell_type": "code",
   "execution_count": 1,
   "id": "83409069-c39b-49b8-8a6c-80274f3d9c59",
   "metadata": {},
   "outputs": [],
   "source": [
    "#importing the Libraries\n",
    "import pandas as pd\n",
    "import numpy as np\n",
    "import seaborn as sns "
   ]
  },
  {
   "cell_type": "code",
   "execution_count": 5,
   "id": "9ccd764b-4c33-4e84-8079-8b2712c73a6e",
   "metadata": {
    "scrolled": true
   },
   "outputs": [
    {
     "data": {
      "text/html": [
       "<div>\n",
       "<style scoped>\n",
       "    .dataframe tbody tr th:only-of-type {\n",
       "        vertical-align: middle;\n",
       "    }\n",
       "\n",
       "    .dataframe tbody tr th {\n",
       "        vertical-align: top;\n",
       "    }\n",
       "\n",
       "    .dataframe thead th {\n",
       "        text-align: right;\n",
       "    }\n",
       "</style>\n",
       "<table border=\"1\" class=\"dataframe\">\n",
       "  <thead>\n",
       "    <tr style=\"text-align: right;\">\n",
       "      <th></th>\n",
       "      <th>age</th>\n",
       "      <th>sex</th>\n",
       "      <th>cp</th>\n",
       "      <th>trestbps</th>\n",
       "      <th>chol</th>\n",
       "      <th>fbs</th>\n",
       "      <th>restecg</th>\n",
       "      <th>thalach</th>\n",
       "      <th>exang</th>\n",
       "      <th>oldpeak</th>\n",
       "      <th>slope</th>\n",
       "      <th>ca</th>\n",
       "      <th>thal</th>\n",
       "      <th>target</th>\n",
       "    </tr>\n",
       "  </thead>\n",
       "  <tbody>\n",
       "    <tr>\n",
       "      <th>0</th>\n",
       "      <td>63</td>\n",
       "      <td>1</td>\n",
       "      <td>3</td>\n",
       "      <td>145</td>\n",
       "      <td>233</td>\n",
       "      <td>1</td>\n",
       "      <td>0</td>\n",
       "      <td>150</td>\n",
       "      <td>0</td>\n",
       "      <td>2.3</td>\n",
       "      <td>0</td>\n",
       "      <td>0</td>\n",
       "      <td>1</td>\n",
       "      <td>1</td>\n",
       "    </tr>\n",
       "    <tr>\n",
       "      <th>1</th>\n",
       "      <td>37</td>\n",
       "      <td>1</td>\n",
       "      <td>2</td>\n",
       "      <td>130</td>\n",
       "      <td>250</td>\n",
       "      <td>0</td>\n",
       "      <td>1</td>\n",
       "      <td>187</td>\n",
       "      <td>0</td>\n",
       "      <td>3.5</td>\n",
       "      <td>0</td>\n",
       "      <td>0</td>\n",
       "      <td>2</td>\n",
       "      <td>1</td>\n",
       "    </tr>\n",
       "    <tr>\n",
       "      <th>2</th>\n",
       "      <td>41</td>\n",
       "      <td>0</td>\n",
       "      <td>1</td>\n",
       "      <td>130</td>\n",
       "      <td>204</td>\n",
       "      <td>0</td>\n",
       "      <td>0</td>\n",
       "      <td>172</td>\n",
       "      <td>0</td>\n",
       "      <td>1.4</td>\n",
       "      <td>2</td>\n",
       "      <td>0</td>\n",
       "      <td>2</td>\n",
       "      <td>1</td>\n",
       "    </tr>\n",
       "    <tr>\n",
       "      <th>3</th>\n",
       "      <td>56</td>\n",
       "      <td>1</td>\n",
       "      <td>1</td>\n",
       "      <td>120</td>\n",
       "      <td>236</td>\n",
       "      <td>0</td>\n",
       "      <td>1</td>\n",
       "      <td>178</td>\n",
       "      <td>0</td>\n",
       "      <td>0.8</td>\n",
       "      <td>2</td>\n",
       "      <td>0</td>\n",
       "      <td>2</td>\n",
       "      <td>1</td>\n",
       "    </tr>\n",
       "    <tr>\n",
       "      <th>4</th>\n",
       "      <td>57</td>\n",
       "      <td>0</td>\n",
       "      <td>0</td>\n",
       "      <td>120</td>\n",
       "      <td>354</td>\n",
       "      <td>0</td>\n",
       "      <td>1</td>\n",
       "      <td>163</td>\n",
       "      <td>1</td>\n",
       "      <td>0.6</td>\n",
       "      <td>2</td>\n",
       "      <td>0</td>\n",
       "      <td>2</td>\n",
       "      <td>1</td>\n",
       "    </tr>\n",
       "  </tbody>\n",
       "</table>\n",
       "</div>"
      ],
      "text/plain": [
       "   age  sex  cp  trestbps  chol  fbs  restecg  thalach  exang  oldpeak  slope  \\\n",
       "0   63    1   3       145   233    1        0      150      0      2.3      0   \n",
       "1   37    1   2       130   250    0        1      187      0      3.5      0   \n",
       "2   41    0   1       130   204    0        0      172      0      1.4      2   \n",
       "3   56    1   1       120   236    0        1      178      0      0.8      2   \n",
       "4   57    0   0       120   354    0        1      163      1      0.6      2   \n",
       "\n",
       "   ca  thal  target  \n",
       "0   0     1       1  \n",
       "1   0     2       1  \n",
       "2   0     2       1  \n",
       "3   0     2       1  \n",
       "4   0     2       1  "
      ]
     },
     "execution_count": 5,
     "metadata": {},
     "output_type": "execute_result"
    }
   ],
   "source": [
    "df=pd.read_csv(\"heart-disease.csv\")\n",
    "df.head()"
   ]
  },
  {
   "cell_type": "markdown",
   "id": "b9efcde8-6e91-46c1-9925-d6774fcfac41",
   "metadata": {},
   "source": [
    "Checking the Data Dictionary"
   ]
  },
  {
   "cell_type": "code",
   "execution_count": 40,
   "id": "5ce5b293-7d2a-45c8-9202-c08aef739056",
   "metadata": {},
   "outputs": [
    {
     "data": {
      "text/plain": [
       "{29,\n",
       " 34,\n",
       " 35,\n",
       " 37,\n",
       " 38,\n",
       " 39,\n",
       " 40,\n",
       " 41,\n",
       " 42,\n",
       " 43,\n",
       " 44,\n",
       " 45,\n",
       " 46,\n",
       " 47,\n",
       " 48,\n",
       " 49,\n",
       " 50,\n",
       " 51,\n",
       " 52,\n",
       " 53,\n",
       " 54,\n",
       " 55,\n",
       " 56,\n",
       " 57,\n",
       " 58,\n",
       " 59,\n",
       " 60,\n",
       " 61,\n",
       " 62,\n",
       " 63,\n",
       " 64,\n",
       " 65,\n",
       " 66,\n",
       " 67,\n",
       " 68,\n",
       " 69,\n",
       " 70,\n",
       " 71,\n",
       " 74,\n",
       " 76,\n",
       " 77}"
      ]
     },
     "execution_count": 40,
     "metadata": {},
     "output_type": "execute_result"
    }
   ],
   "source": [
    "set(df[\"age\"])\n",
    "#looking at the output we came to know it is quantitative Discrete data"
   ]
  },
  {
   "cell_type": "code",
   "execution_count": 16,
   "id": "fb458853-d467-472b-92e9-6f0837cf954c",
   "metadata": {},
   "outputs": [
    {
     "data": {
      "text/plain": [
       "{0, 1, 2, 3}"
      ]
     },
     "execution_count": 16,
     "metadata": {},
     "output_type": "execute_result"
    }
   ],
   "source": [
    "set(df[\"cp\"])\n",
    "#looking at the output we came to know it is quantitative Discrete data"
   ]
  },
  {
   "cell_type": "code",
   "execution_count": 18,
   "id": "8f0cd2da-2ee7-467f-8fed-ee018ac6f4d2",
   "metadata": {},
   "outputs": [
    {
     "data": {
      "text/plain": [
       "{94,\n",
       " 100,\n",
       " 101,\n",
       " 102,\n",
       " 104,\n",
       " 105,\n",
       " 106,\n",
       " 108,\n",
       " 110,\n",
       " 112,\n",
       " 114,\n",
       " 115,\n",
       " 117,\n",
       " 118,\n",
       " 120,\n",
       " 122,\n",
       " 123,\n",
       " 124,\n",
       " 125,\n",
       " 126,\n",
       " 128,\n",
       " 129,\n",
       " 130,\n",
       " 132,\n",
       " 134,\n",
       " 135,\n",
       " 136,\n",
       " 138,\n",
       " 140,\n",
       " 142,\n",
       " 144,\n",
       " 145,\n",
       " 146,\n",
       " 148,\n",
       " 150,\n",
       " 152,\n",
       " 154,\n",
       " 155,\n",
       " 156,\n",
       " 160,\n",
       " 164,\n",
       " 165,\n",
       " 170,\n",
       " 172,\n",
       " 174,\n",
       " 178,\n",
       " 180,\n",
       " 192,\n",
       " 200}"
      ]
     },
     "execution_count": 18,
     "metadata": {},
     "output_type": "execute_result"
    }
   ],
   "source": [
    "set(df[\"trestbps\"])\n",
    "#looking at the output we came to know it is quantitative Discrete data"
   ]
  },
  {
   "cell_type": "code",
   "execution_count": 24,
   "id": "06109b64-0915-4953-8520-9390b340f156",
   "metadata": {},
   "outputs": [
    {
     "data": {
      "text/plain": [
       "{0, 1, 2}"
      ]
     },
     "execution_count": 24,
     "metadata": {},
     "output_type": "execute_result"
    }
   ],
   "source": [
    "set(df[\"restecg\"])\n",
    "#looking at the output we came to know it is quantitative Discrete data"
   ]
  },
  {
   "cell_type": "code",
   "execution_count": 26,
   "id": "24a69446-0907-429f-be6d-e7c62646db95",
   "metadata": {},
   "outputs": [
    {
     "data": {
      "text/plain": [
       "{71,\n",
       " 88,\n",
       " 90,\n",
       " 95,\n",
       " 96,\n",
       " 97,\n",
       " 99,\n",
       " 103,\n",
       " 105,\n",
       " 106,\n",
       " 108,\n",
       " 109,\n",
       " 111,\n",
       " 112,\n",
       " 113,\n",
       " 114,\n",
       " 115,\n",
       " 116,\n",
       " 117,\n",
       " 118,\n",
       " 120,\n",
       " 121,\n",
       " 122,\n",
       " 123,\n",
       " 124,\n",
       " 125,\n",
       " 126,\n",
       " 127,\n",
       " 128,\n",
       " 129,\n",
       " 130,\n",
       " 131,\n",
       " 132,\n",
       " 133,\n",
       " 134,\n",
       " 136,\n",
       " 137,\n",
       " 138,\n",
       " 139,\n",
       " 140,\n",
       " 141,\n",
       " 142,\n",
       " 143,\n",
       " 144,\n",
       " 145,\n",
       " 146,\n",
       " 147,\n",
       " 148,\n",
       " 149,\n",
       " 150,\n",
       " 151,\n",
       " 152,\n",
       " 153,\n",
       " 154,\n",
       " 155,\n",
       " 156,\n",
       " 157,\n",
       " 158,\n",
       " 159,\n",
       " 160,\n",
       " 161,\n",
       " 162,\n",
       " 163,\n",
       " 164,\n",
       " 165,\n",
       " 166,\n",
       " 167,\n",
       " 168,\n",
       " 169,\n",
       " 170,\n",
       " 171,\n",
       " 172,\n",
       " 173,\n",
       " 174,\n",
       " 175,\n",
       " 177,\n",
       " 178,\n",
       " 179,\n",
       " 180,\n",
       " 181,\n",
       " 182,\n",
       " 184,\n",
       " 185,\n",
       " 186,\n",
       " 187,\n",
       " 188,\n",
       " 190,\n",
       " 192,\n",
       " 194,\n",
       " 195,\n",
       " 202}"
      ]
     },
     "execution_count": 26,
     "metadata": {},
     "output_type": "execute_result"
    }
   ],
   "source": [
    "set(df[\"thalach\"])\n",
    "#looking at the output we came to know it is quantitative Discrete data"
   ]
  },
  {
   "cell_type": "code",
   "execution_count": 28,
   "id": "efbfbd85-ec44-4ee5-bd87-fb74fddc8a13",
   "metadata": {},
   "outputs": [
    {
     "data": {
      "text/plain": [
       "{0.0,\n",
       " 0.1,\n",
       " 0.2,\n",
       " 0.3,\n",
       " 0.4,\n",
       " 0.5,\n",
       " 0.6,\n",
       " 0.7,\n",
       " 0.8,\n",
       " 0.9,\n",
       " 1.0,\n",
       " 1.1,\n",
       " 1.2,\n",
       " 1.3,\n",
       " 1.4,\n",
       " 1.5,\n",
       " 1.6,\n",
       " 1.8,\n",
       " 1.9,\n",
       " 2.0,\n",
       " 2.1,\n",
       " 2.2,\n",
       " 2.3,\n",
       " 2.4,\n",
       " 2.5,\n",
       " 2.6,\n",
       " 2.8,\n",
       " 2.9,\n",
       " 3.0,\n",
       " 3.1,\n",
       " 3.2,\n",
       " 3.4,\n",
       " 3.5,\n",
       " 3.6,\n",
       " 3.8,\n",
       " 4.0,\n",
       " 4.2,\n",
       " 4.4,\n",
       " 5.6,\n",
       " 6.2}"
      ]
     },
     "execution_count": 28,
     "metadata": {},
     "output_type": "execute_result"
    }
   ],
   "source": [
    "set(df[\"oldpeak\"])\n",
    "#looking at the output we came to know it is quantitative continous data"
   ]
  },
  {
   "cell_type": "code",
   "execution_count": 30,
   "id": "662fa5e5-520f-4d30-b0a4-78b9790a19d1",
   "metadata": {},
   "outputs": [
    {
     "data": {
      "text/plain": [
       "{0, 1, 2}"
      ]
     },
     "execution_count": 30,
     "metadata": {},
     "output_type": "execute_result"
    }
   ],
   "source": [
    "set(df[\"slope\"])\n",
    "#looking at the output we came to know it is quantitative Discrete data"
   ]
  },
  {
   "cell_type": "code",
   "execution_count": 32,
   "id": "17a9cf1c-1afb-4836-bd6c-70c7e6563dfb",
   "metadata": {},
   "outputs": [
    {
     "data": {
      "text/plain": [
       "{0, 1, 2, 3, 4}"
      ]
     },
     "execution_count": 32,
     "metadata": {},
     "output_type": "execute_result"
    }
   ],
   "source": [
    "set(df[\"ca\"])\n",
    "#looking at the output we came to know it is quantitative Discrete data"
   ]
  },
  {
   "cell_type": "code",
   "execution_count": 34,
   "id": "09694f3f-eb67-4ba1-b301-686158b2a08a",
   "metadata": {},
   "outputs": [
    {
     "data": {
      "text/plain": [
       "{0, 1, 2, 3}"
      ]
     },
     "execution_count": 34,
     "metadata": {},
     "output_type": "execute_result"
    }
   ],
   "source": [
    "set(df[\"thal\"])\n",
    "#looking at the output we came to know it is quantitative Discrete data"
   ]
  },
  {
   "cell_type": "code",
   "execution_count": 36,
   "id": "535991dd-b17a-42d2-9e04-243a8c414565",
   "metadata": {},
   "outputs": [
    {
     "data": {
      "text/plain": [
       "{0, 1}"
      ]
     },
     "execution_count": 36,
     "metadata": {},
     "output_type": "execute_result"
    }
   ],
   "source": [
    "set(df[\"target\"])\n",
    "#looking at the output we came to know it is quantitative Discrete data"
   ]
  },
  {
   "cell_type": "code",
   "execution_count": 48,
   "id": "caceba61-505f-4581-bbc5-6e9b8ae60bae",
   "metadata": {},
   "outputs": [
    {
     "data": {
      "text/plain": [
       "Index(['age', 'sex', 'cp', 'trestbps', 'chol', 'fbs', 'restecg', 'thalach',\n",
       "       'exang', 'oldpeak', 'slope', 'ca', 'thal', 'target'],\n",
       "      dtype='object')"
      ]
     },
     "execution_count": 48,
     "metadata": {},
     "output_type": "execute_result"
    }
   ],
   "source": [
    "df.columns"
   ]
  },
  {
   "cell_type": "code",
   "execution_count": 74,
   "id": "dd790425-2965-4878-b71a-b15555ebb653",
   "metadata": {},
   "outputs": [
    {
     "data": {
      "text/plain": [
       "<Axes: >"
      ]
     },
     "execution_count": 74,
     "metadata": {},
     "output_type": "execute_result"
    },
    {
     "data": {
      "image/png": "[encoded data removed]",
      "text/plain": [
       "<Figure size 640x480 with 1 Axes>"
      ]
     },
     "metadata": {},
     "output_type": "display_data"
    }
   ],
   "source": [
    "#Feature Engineering \n",
    "#Detectting the outliers\n",
    "sns.boxplot(df)"
   ]
  },
  {
   "cell_type": "code",
   "execution_count": 72,
   "id": "12d3c55f-f8b8-4582-af65-9fbdd3414431",
   "metadata": {},
   "outputs": [
    {
     "data": {
      "text/plain": [
       "<Axes: ylabel='trestbps'>"
      ]
     },
     "execution_count": 72,
     "metadata": {},
     "output_type": "execute_result"
    },
    {
     "data": {
      "image/png": "[encoded data removed]",
      "text/plain": [
       "<Figure size 640x480 with 1 Axes>"
      ]
     },
     "metadata": {},
     "output_type": "display_data"
    }
   ],
   "source": [
    "sns.boxplot(df[\"trestbps\"])\n",
    "#Looking at the output we can see there are outliers"
   ]
  },
  {
   "cell_type": "code",
   "execution_count": 58,
   "id": "840faed7-24ea-450d-a5f5-dbc56c3c882c",
   "metadata": {},
   "outputs": [
    {
     "data": {
      "text/plain": [
       "<Axes: ylabel='chol'>"
      ]
     },
     "execution_count": 58,
     "metadata": {},
     "output_type": "execute_result"
    },
    {
     "data": {
      "image/png": "[encoded data removed]",
      "text/plain": [
       "<Figure size 640x480 with 1 Axes>"
      ]
     },
     "metadata": {},
     "output_type": "display_data"
    }
   ],
   "source": [
    "sns.boxplot(df[\"chol\"])\n",
    "#Looking at the output we can see there are outliers"
   ]
  },
  {
   "cell_type": "code",
   "execution_count": 70,
   "id": "981121f9-30c9-44bf-9004-813dce585e7b",
   "metadata": {},
   "outputs": [
    {
     "data": {
      "text/plain": [
       "<Axes: ylabel='oldpeak'>"
      ]
     },
     "execution_count": 70,
     "metadata": {},
     "output_type": "execute_result"
    },
    {
     "data": {
      "image/png": "[encoded data removed]",
      "text/plain": [
       "<Figure size 640x480 with 1 Axes>"
      ]
     },
     "metadata": {},
     "output_type": "display_data"
    }
   ],
   "source": [
    "sns.boxplot(df[\"oldpeak\"])\n",
    "#Looking at the output we can see there are outliers"
   ]
  },
  {
   "cell_type": "code",
   "execution_count": 76,
   "id": "0d5150b9-74e4-4ac2-aed5-e8b455d74656",
   "metadata": {},
   "outputs": [
    {
     "data": {
      "text/plain": [
       "20.0"
      ]
     },
     "execution_count": 76,
     "metadata": {},
     "output_type": "execute_result"
    }
   ],
   "source": [
    "#Now treating that outliers using trimming \n",
    "\n",
    "#For trestbps column\n",
    "#first we need to calculate IQR\n",
    "iqr=df.trestbps.quantile(0.75)-df.trestbps.quantile(0.25)\n",
    "iqr"
   ]
  },
  {
   "cell_type": "code",
   "execution_count": 82,
   "id": "a7476b5d-efad-480b-b453-f4812c49c930",
   "metadata": {},
   "outputs": [
    {
     "data": {
      "text/plain": [
       "(90.0, 170.0)"
      ]
     },
     "execution_count": 82,
     "metadata": {},
     "output_type": "execute_result"
    }
   ],
   "source": [
    "#then we need to set loweer limit and upper limit\n",
    "lower_limit=df.trestbps.quantile(0.25)-1.5*iqr\n",
    "upper_limit=df.trestbps.quantile(0.75)+1.5*iqr\n",
    "lower_limit,upper_limit"
   ]
  },
  {
   "cell_type": "code",
   "execution_count": 84,
   "id": "f9290b36-15e5-4cac-8b7d-90615750a678",
   "metadata": {},
   "outputs": [
    {
     "data": {
      "text/plain": [
       "array([False, False, False, False, False, False, False, False,  True,\n",
       "       False, False, False, False, False, False, False, False, False,\n",
       "       False, False, False, False, False, False, False, False, False,\n",
       "       False, False, False, False, False, False, False, False, False,\n",
       "       False, False, False, False, False, False, False, False, False,\n",
       "       False, False, False, False, False, False, False, False, False,\n",
       "       False, False, False, False, False, False, False, False, False,\n",
       "       False, False, False, False, False, False, False, False, False,\n",
       "       False, False, False, False, False, False, False, False, False,\n",
       "       False, False, False, False, False, False, False, False, False,\n",
       "       False, False, False, False, False, False, False, False, False,\n",
       "       False, False,  True, False, False, False, False, False, False,\n",
       "       False, False,  True, False, False, False, False, False, False,\n",
       "       False, False, False, False, False, False, False, False, False,\n",
       "       False, False, False, False, False, False, False, False, False,\n",
       "       False, False, False, False, False, False, False, False, False,\n",
       "       False, False, False, False, False, False, False, False, False,\n",
       "       False, False, False, False, False, False, False, False, False,\n",
       "       False, False, False, False, False, False, False, False, False,\n",
       "       False, False, False, False, False, False, False, False, False,\n",
       "       False, False, False, False, False, False, False, False, False,\n",
       "       False, False, False, False, False, False, False, False, False,\n",
       "       False, False, False, False, False,  True, False, False, False,\n",
       "       False, False, False, False, False, False, False, False, False,\n",
       "       False, False, False, False, False, False, False,  True, False,\n",
       "       False, False, False, False, False, False, False, False, False,\n",
       "       False, False, False, False, False, False, False,  True, False,\n",
       "       False, False, False, False, False,  True, False, False, False,\n",
       "       False, False, False, False, False, False, False, False,  True,\n",
       "       False, False, False, False, False,  True, False, False, False,\n",
       "       False, False, False, False, False, False, False, False, False,\n",
       "       False, False, False, False, False, False, False, False, False,\n",
       "       False, False, False, False, False, False, False, False, False,\n",
       "       False, False, False, False, False, False])"
      ]
     },
     "execution_count": 84,
     "metadata": {},
     "output_type": "execute_result"
    }
   ],
   "source": [
    "#Trimming for column : trestbps\n",
    "outliers_df=np.where(df.trestbps>upper_limit,True, np.where(df.trestbps<lower_limit,True,False))\n",
    "outliers_df\n"
   ]
  },
  {
   "cell_type": "code",
   "execution_count": 102,
   "id": "34878445-87a1-4a9a-86e1-07f74b99794b",
   "metadata": {},
   "outputs": [
    {
     "data": {
      "text/plain": [
       "(303, 14)"
      ]
     },
     "execution_count": 102,
     "metadata": {},
     "output_type": "execute_result"
    }
   ],
   "source": [
    "#you can check the outliers of columns in variable explorer\n",
    "df_trimmed=df.loc[~outliers_df]\n",
    "df[\"trse\"]\n",
    "df.shape\n"
   ]
  },
  {
   "cell_type": "code",
   "execution_count": 104,
   "id": "c2bd178f-0bb7-4c8c-b31d-7dcdc9a69e79",
   "metadata": {},
   "outputs": [
    {
     "data": {
      "text/plain": [
       "<Axes: ylabel='trestbps'>"
      ]
     },
     "execution_count": 104,
     "metadata": {},
     "output_type": "execute_result"
    },
    {
     "data": {
      "image/png": "[encoded data removed]",
      "text/plain": [
       "<Figure size 640x480 with 1 Axes>"
      ]
     },
     "metadata": {},
     "output_type": "display_data"
    }
   ],
   "source": [
    "sns.boxplot(df.trestbps)"
   ]
  },
  {
   "cell_type": "code",
   "execution_count": null,
   "id": "92dd1eeb-848e-49a7-a0fc-cff3d8437920",
   "metadata": {},
   "outputs": [],
   "source": []
  }
 ],
 "metadata": {
  "kernelspec": {
   "display_name": "Python 3 (ipykernel)",
   "language": "python",
   "name": "python3"
  },
  "language_info": {
   "codemirror_mode": {
    "name": "ipython",
    "version": 3
   },
   "file_extension": ".py",
   "mimetype": "text/x-python",
   "name": "python",
   "nbconvert_exporter": "python",
   "pygments_lexer": "ipython3",
   "version": "3.12.3"
  }
 },
 "nbformat": 4,
 "nbformat_minor": 5
}
